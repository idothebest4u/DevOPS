{
 "cells": [
  {
   "cell_type": "code",
   "execution_count": 33,
   "metadata": {
    "collapsed": true,
    "deletable": true,
    "editable": true
   },
   "outputs": [],
   "source": [
    "import connect\n",
    "import sys\n",
    "import json\n",
    "from pprint import pprint\n",
    "import requests\n",
    "from requests.packages.urllib3.exceptions import InsecureRequestWarning"
   ]
  },
  {
   "cell_type": "code",
   "execution_count": 34,
   "metadata": {
    "collapsed": false,
    "deletable": true,
    "editable": true
   },
   "outputs": [],
   "source": [
    "props = dict(line.strip().split('=') for line in open('env.properties'))\n",
    "\n",
    "## uDeploy Connection Params\n",
    "url=props['udeploy.url']\n",
    "user=props['udeploy.username']\n",
    "token=props['udeploy.token']\n",
    "\n",
    "## Application Params\n",
    "appName=props['application.name']\n",
    "appPort=props['application.port']\n",
    "junction=props['application.junction']\n",
    "userName=props['application.username']\n",
    "userPasswd=props['application.userpass']\n",
    "\n",
    "# Disable insecure SSL Warnings\n",
    "requests.packages.urllib3.disable_warnings(InsecureRequestWarning)"
   ]
  },
  {
   "cell_type": "code",
   "execution_count": 35,
   "metadata": {
    "collapsed": false,
    "deletable": true,
    "editable": true
   },
   "outputs": [
    {
     "name": "stdout",
     "output_type": "stream",
     "text": [
      "New Component ms-auth Created Successfully\n"
     ]
    }
   ],
   "source": [
    "# Create a new component based on above params\n",
    "\n",
    "new_component_template= {\n",
    "                    \"name\": appName,\n",
    "                    \"description\": appName,\n",
    "                    \"templateId\": \"c486d066-e9ac-4ebe-8ddd-c6a310d5bcb7\",\n",
    "                    \"templateVersion\": \"\",\n",
    "                    \"componentType\": \"STANDARD\",\n",
    "                    \"sourceConfigPlugin\": \"\",\n",
    "                    \"importAutomatically\": \"false\",\n",
    "                    \"useVfs\": \"true\",\n",
    "                    \"defaultVersionType\": \"FULL\",\n",
    "                    \"importAgentType\": \"inherit\",\n",
    "                    \"inheritSystemCleanup\": \"true\",\n",
    "                    \"runVersionCreationProcess\": \"false\",\n",
    "                    \"properties\": {},\n",
    "                    \"importProperties\": {\n",
    "                    \"properties\": {}\n",
    "                        },\n",
    "                    \"teamMappings\": [{\n",
    "                    \"teamId\": \"ce08f0fc-b2e7-4df9-b713-f787d04be999\"\n",
    "                        }]\n",
    "                    }\n",
    "\n",
    "head = {'Content-type':'application/json',\n",
    "        'Accept':'application/json'\n",
    "       }\n",
    "\n",
    "ud=connect.udeploy(url,user,token)\n",
    "res=ud.uput('/cli/component/create',new_component_template,head)\n",
    "if res.status_code != 200:\n",
    "    print (\"Some error occured while creating the new Component {0}\".format(appName))\n",
    "    print (res.text)\n",
    "else:\n",
    "    print (\"New Component {0} Created Successfully\".format(appName))\n",
    "#     print (res.text)\n"
   ]
  },
  {
   "cell_type": "code",
   "execution_count": 36,
   "metadata": {
    "collapsed": false,
    "deletable": true,
    "editable": true,
    "scrolled": true
   },
   "outputs": [],
   "source": [
    "# Extract Component id\n",
    "create_component_json_response=json.loads(res.text)\n",
    "component_id=create_component_json_response['id']"
   ]
  },
  {
   "cell_type": "code",
   "execution_count": 37,
   "metadata": {
    "collapsed": false,
    "deletable": true,
    "editable": true
   },
   "outputs": [
    {
     "name": "stdout",
     "output_type": "stream",
     "text": [
      "\n"
     ]
    }
   ],
   "source": [
    "# print (\"Also make sure that you apply the tag UOAPI to newly created component\")\n",
    "head = {'Content-type':'application/json',\n",
    "        'Accept':'application/json'\n",
    "       }\n",
    "\n",
    "tag_template = {\n",
    "                \"ids\": [\"{0}\".format(component_id)],\n",
    "                \"name\": \"UOAPI\"\n",
    "}\n",
    "uri='/rest/tag/Component'\n",
    "furl = url + uri\n",
    "payld = json.dumps(tag_template)\n",
    "res=requests.put(furl,auth=(user,token),headers=head,data=payld,verify=False)\n",
    "print  (res.text)"
   ]
  },
  {
   "cell_type": "code",
   "execution_count": 38,
   "metadata": {
    "collapsed": false,
    "deletable": true,
    "editable": true
   },
   "outputs": [
    {
     "name": "stdout",
     "output_type": "stream",
     "text": [
      "New Application ms-auth Created Successfully\n"
     ]
    }
   ],
   "source": [
    "# Create Application in uDeploy\n",
    "new_application_template={\n",
    "                            \"application\": {\n",
    "                            \"name\": \"{0}\".format(appName),\n",
    "                            \"description\": \"\",\n",
    "                            \"templateId\": \"47756720-784b-4afc-bfb3-eca69ffb8fb3\",\n",
    "                            \"templateVersion\": \"\",\n",
    "                            \"notificationSchemeId\": \"bdd39b45-4695-4f4e-a177-ed6899ec42e4\",\n",
    "                            \"enforceCompleteSnapshots\": \"False\",\n",
    "                            \"teamMappings\": [{\n",
    "                                \"teamId\": \"ce08f0fc-b2e7-4df9-b713-f787d04be999\"\n",
    "                            }]\n",
    "                        },\n",
    "                        \"components\": {\n",
    "                            \"existingComponents\": [\"{0}\".format(component_id)],\n",
    "                            \"newComponents\": []\n",
    "                        },\n",
    "                        \"environments\": [{\n",
    "                            \"name\": \"DEV\",\n",
    "                            \"templateId\": \"744c69de-baab-4783-a824-53228fa8ab16\",\n",
    "                            \"templateVersion\": 3,\n",
    "                            \"description\": \"\",\n",
    "                            \"requireApprovals\": False,\n",
    "                            \"noSelfApprovals\": False,\n",
    "                            \"exemptProcesses\": \"\",\n",
    "                            \"lockSnapshots\": False,\n",
    "                            \"color\": \"#008ABF\",\n",
    "                            \"teamMappings\": [{\n",
    "                                \"resourceRoleId\": \"b6832d84-9707-42de-acf4-a8cb8fe1592c\",\n",
    "                                \"teamId\": \"ce08f0fc-b2e7-4df9-b713-f787d04be999\"\n",
    "                            }],\n",
    "                            \"resources\": []\n",
    "                        }, {\n",
    "                            \"name\": \"QA\",\n",
    "                            \"templateId\": \"93ea3d2f-c781-43d2-8600-8133cfd6030e\",\n",
    "                            \"templateVersion\": 7,\n",
    "                            \"description\": \"\",\n",
    "                            \"requireApprovals\": True,\n",
    "                            \"noSelfApprovals\": True,\n",
    "                            \"exemptProcesses\": \"\",\n",
    "                            \"lockSnapshots\": False,\n",
    "                            \"color\": \"#00B2EF\",\n",
    "                            \"teamMappings\": [{\n",
    "                                \"resourceRoleId\": \"8766d5bf-dad2-4ebc-9bfa-7de0cd80336c\",\n",
    "                                \"teamId\": \"ce08f0fc-b2e7-4df9-b713-f787d04be999\"\n",
    "                            }],\n",
    "                            \"resources\": []\n",
    "                        }, {\n",
    "                            \"name\": \"STG\",\n",
    "                            \"templateId\": \"86ecdcbd-42e7-49d1-a974-8fc3fefd8242\",\n",
    "                            \"templateVersion\": 2,\n",
    "                            \"description\": \"\",\n",
    "                            \"requireApprovals\": False,\n",
    "                            \"noSelfApprovals\": False,\n",
    "                            \"exemptProcesses\": \"\",\n",
    "                            \"lockSnapshots\": False,\n",
    "                            \"color\": \"#FDB813\",\n",
    "                            \"teamMappings\": [{\n",
    "                                \"resourceRoleId\": \"f2495cb1-2dea-46cf-9b99-eddf98a73196\",\n",
    "                                \"teamId\": \"ce08f0fc-b2e7-4df9-b713-f787d04be999\"\n",
    "                            }],\n",
    "                            \"resources\": []\n",
    "                        }, {\n",
    "                            \"name\": \"STG02\",\n",
    "                            \"templateId\": \"abc39bbf-26c5-44dc-9ee3-a3fe4871aaaa\",\n",
    "                            \"templateVersion\": 2,\n",
    "                            \"description\": \"\",\n",
    "                            \"requireApprovals\": False,\n",
    "                            \"noSelfApprovals\": False,\n",
    "                            \"exemptProcesses\": \"\",\n",
    "                            \"lockSnapshots\": False,\n",
    "                            \"color\": \"#00B2EF\",\n",
    "                            \"teamMappings\": [{\n",
    "                                \"resourceRoleId\": \"f0e8ab92-f896-4fd9-ad36-5c2c25928385\",\n",
    "                                \"teamId\": \"ce08f0fc-b2e7-4df9-b713-f787d04be999\"\n",
    "                            }],\n",
    "                            \"resources\": []\n",
    "                        }, {\n",
    "                            \"name\": \"UAT\",\n",
    "                            \"templateId\": \"aa7c9bfa-e04d-4c52-b280-7045b4057518\",\n",
    "                            \"templateVersion\": 4,\n",
    "                            \"description\": \"\",\n",
    "                            \"requireApprovals\": True,\n",
    "                            \"noSelfApprovals\": True,\n",
    "                            \"exemptProcesses\": \"\",\n",
    "                            \"lockSnapshots\": False,\n",
    "                            \"color\": \"#17AF4B\",\n",
    "                            \"teamMappings\": [{\n",
    "                                \"resourceRoleId\": \"96dc0a13-e591-449b-aeff-21f3cdf9e7a5\",\n",
    "                                \"teamId\": \"ce08f0fc-b2e7-4df9-b713-f787d04be999\"\n",
    "                            }],\n",
    "                            \"resources\": []\n",
    "                        }]\n",
    "}\n",
    "ud=connect.udeploy(url,user,token)\n",
    "res=ud.uput('/rest/deploy/application/createFromWizard',new_application_template,head)\n",
    "if res.status_code != 200:\n",
    "    print (\"Some error occured while creating the new Application {0}\".format(appName))\n",
    "    print (res.text)\n",
    "else:\n",
    "    print (\"New Application {0} Created Successfully\".format(appName))\n",
    "#     print (res.text)"
   ]
  },
  {
   "cell_type": "code",
   "execution_count": 42,
   "metadata": {
    "collapsed": false,
    "deletable": true,
    "editable": true
   },
   "outputs": [
    {
     "name": "stdout",
     "output_type": "stream",
     "text": [
      "Now at this time, add following component properties to newly created Component in uDeploy\n",
      "appPort=3106\n",
      "junction=cred\n",
      "userName=authusr\n",
      "userPasswd=nbcu2016\n"
     ]
    }
   ],
   "source": [
    "## Create Component Properties\n",
    "\n",
    "-\n"
   ]
  },
  {
   "cell_type": "code",
   "execution_count": null,
   "metadata": {
    "collapsed": false,
    "deletable": true,
    "editable": true
   },
   "outputs": [],
   "source": []
  },
  {
   "cell_type": "code",
   "execution_count": null,
   "metadata": {
    "collapsed": true,
    "deletable": true,
    "editable": true
   },
   "outputs": [],
   "source": []
  }
 ],
 "metadata": {
  "kernelspec": {
   "display_name": "Python 3",
   "language": "python",
   "name": "python3"
  },
  "language_info": {
   "codemirror_mode": {
    "name": "ipython",
    "version": 3
   },
   "file_extension": ".py",
   "mimetype": "text/x-python",
   "name": "python",
   "nbconvert_exporter": "python",
   "pygments_lexer": "ipython3",
   "version": "3.4.3"
  }
 },
 "nbformat": 4,
 "nbformat_minor": 2
}
